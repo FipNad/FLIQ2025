{
 "cells": [
  {
   "cell_type": "code",
   "execution_count": null,
   "id": "464d9248",
   "metadata": {},
   "outputs": [],
   "source": [
    "# Package Imports - feel free to add what you think might be useful! \n",
    "%pip install requests\n",
    "import requests"
   ]
  },
  {
   "cell_type": "markdown",
   "id": "41bd5b50",
   "metadata": {},
   "source": [
    "## Task 3: Quest for Quantum Randomness"
   ]
  },
  {
   "cell_type": "markdown",
   "id": "5af55384",
   "metadata": {},
   "source": [
    "### Part A: Truly Different"
   ]
  },
  {
   "cell_type": "code",
   "execution_count": null,
   "id": "67b421a6",
   "metadata": {},
   "outputs": [],
   "source": [
    "\"\"\" \n",
    "Using the QRNGaaS User Manual provided, \n",
    "write Python code to get random numbers from IDQuantique's Quantum Random Number Generators. \n",
    "\n",
    "The API documentation is available at: https://drive.google.com/file/d/1OkyRUP7HC4dbmi8OvoT4EuvXqRVGdsjD/view\n",
    "You'll probably reuse this code for Task 4. So write it well!\n",
    "\n",
    "If you are unfamiliar with writing HTTP requests in Python, \n",
    "https://www.w3schools.com/python/module_requests.asp\n",
    "\n",
    "If you're really stuck, this can definitely help. Though we encourage you to read the documentation yourself! \n",
    "https://curlconverter.com/python/\n",
    "\"\"\""
   ]
  },
  {
   "cell_type": "code",
   "execution_count": null,
   "id": "04f18019",
   "metadata": {},
   "outputs": [],
   "source": [
    "\"\"\"\n",
    "To get started, we provide a simple example of how to use the API to generate 10 int16 random numbers.\n",
    "In particular, observe where we pass in the min and max parameters to specify the range of random numbers we want\n",
    "and the quantity parameter to specify how many random numbers we want.\n",
    "Here is the API KEY you will need to use: aTo4BKRvnc49uRWDk034zaua87vGRXKk9TMLdfkI\n",
    "\"\"\"\n",
    "\n",
    "!curl \"https://qrng.idqloud.com/api/1.0/short?max=32767&min=-32768&quantity=10\" -X GET -H \"X-API-KEY: <ADD API KEY FROM ABOVE HERE>\""
   ]
  },
  {
   "cell_type": "code",
   "execution_count": null,
   "id": "24226678",
   "metadata": {},
   "outputs": [],
   "source": [
    "\"\"\"\n",
    "You can paste the other environmental entropy based TRNGs from Task 2 and compare the performance\n",
    "Compare your written QRNG to the previous TRNGs. Be sure to compare them with respect to bitrate and entropy.\n",
    "\"\"\"\n",
    "def plot_entropy():\n",
    "    pass # TODO\n",
    "\n",
    "def get_bitrate():\n",
    "    pass # TODO"
   ]
  },
  {
   "cell_type": "markdown",
   "id": "ee04daba",
   "metadata": {},
   "source": [
    "### Part B: Easy as Pi!"
   ]
  },
  {
   "cell_type": "code",
   "execution_count": null,
   "id": "b0155461",
   "metadata": {},
   "outputs": [],
   "source": [
    "\"\"\"\n",
    "Implement the Monte Carlo algorithm for estimating Pi using your various sources of randomness. \n",
    "\n",
    "If you are stuck on how to implement the algorithm: \n",
    "https://www.geeksforgeeks.org/estimating-value-pi-using-monte-carlo/\n",
    "\"\"\"\n",
    "def estimate_pi():\n",
    "    pass # TODO"
   ]
  }
 ],
 "metadata": {
  "kernelspec": {
   "display_name": "base",
   "language": "python",
   "name": "python3"
  },
  "language_info": {
   "codemirror_mode": {
    "name": "ipython",
    "version": 3
   },
   "file_extension": ".py",
   "mimetype": "text/x-python",
   "name": "python",
   "nbconvert_exporter": "python",
   "pygments_lexer": "ipython3",
   "version": "3.11.9"
  }
 },
 "nbformat": 4,
 "nbformat_minor": 5
}
