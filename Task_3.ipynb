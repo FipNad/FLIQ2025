{
 "cells": [
  {
   "cell_type": "code",
   "execution_count": 80,
   "id": "464d9248",
   "metadata": {},
   "outputs": [],
   "source": [
    "# Package Imports - feel free to add what you think might be useful! \n",
    "# %pip install requests\n",
    "import requests\n",
    "import numpy as np\n",
    "import matplotlib.pyplot as plt\n",
    "import time"
   ]
  },
  {
   "cell_type": "markdown",
   "id": "41bd5b50",
   "metadata": {},
   "source": [
    "## Task 3: Quest for Quantum Randomness"
   ]
  },
  {
   "cell_type": "markdown",
   "id": "5af55384",
   "metadata": {},
   "source": [
    "### Part A: Truly Different"
   ]
  },
  {
   "cell_type": "code",
   "execution_count": null,
   "id": "67b421a6",
   "metadata": {},
   "outputs": [],
   "source": [
    "\"\"\" \n",
    "Using the QRNGaaS User Manual provided, \n",
    "write Python code to get random numbers from IDQuantique's Quantum Random Number Generators. \n",
    "\n",
    "The API documentation is available at: https://drive.google.com/file/d/1OkyRUP7HC4dbmi8OvoT4EuvXqRVGdsjD/view\n",
    "You'll probably reuse this code for Task 4. So write it well!\n",
    "\n",
    "If you are unfamiliar with writing HTTP requests in Python, \n",
    "https://www.w3schools.com/python/module_requests.asp\n",
    "\n",
    "If you're really stuck, this can definitely help. Though we encourage you to read the documentation yourself! \n",
    "https://curlconverter.com/python/\n",
    "\"\"\""
   ]
  },
  {
   "cell_type": "code",
   "execution_count": 2,
   "id": "04f18019",
   "metadata": {},
   "outputs": [
    {
     "name": "stdout",
     "output_type": "stream",
     "text": [
      "{\"data\":[-12537,-19793,18998,-2528,-7753,-12767,-27980,1933,-30274,-27491],\"dataType\":\"int16\"}\n"
     ]
    },
    {
     "name": "stderr",
     "output_type": "stream",
     "text": [
      "  % Total    % Received % Xferd  Average Speed   Time    Time     Time  Current\n",
      "                                 Dload  Upload   Total   Spent    Left  Speed\n",
      "\n",
      "  0     0    0     0    0     0      0      0 --:--:-- --:--:-- --:--:--     0\n",
      "  0     0    0     0    0     0      0      0 --:--:--  0:00:01 --:--:--     0\n",
      "  0     0    0     0    0     0      0      0 --:--:--  0:00:02 --:--:--     0\n",
      "100    94  100    94    0     0     36      0  0:00:02  0:00:02 --:--:--    36\n"
     ]
    }
   ],
   "source": [
    "\"\"\"\n",
    "To get started, we provide a simple example of how to use the API to generate 10 int16 random numbers.\n",
    "In particular, observe where we pass in the min and max parameters to specify the range of random numbers we want\n",
    "and the quantity parameter to specify how many random numbers we want.\n",
    "Here is the API KEY you will need to use: aTo4BKRvnc49uRWDk034zaua87vGRXKk9TMLdfkI\n",
    "\"\"\"\n",
    "\n",
    "!curl \"https://qrng.idqloud.com/api/1.0/short?max=32767&min=-32768&quantity=10\" -X GET -H \"X-API-KEY: aTo4BKRvnc49uRWDk034zaua87vGRXKk9TMLdfkI\""
   ]
  },
  {
   "cell_type": "code",
   "execution_count": 42,
   "id": "2413889f",
   "metadata": {},
   "outputs": [],
   "source": [
    "#comverting the curl command to python\n",
    "#curl \"https://qrng.idqloud.com/api/1.0/short?max=32767&min=-32768&quantity=10\" -X GET -H \"X-API-KEY: aTo4BKRvnc49uRWDk034zaua87vGRXKk9TMLdfkI\"\n",
    "\n",
    "def get_data(quantity, min, max):\n",
    "    # url = f\"https://qrng.idqloud.com/api/1.0/int?max={max}&min={min}&quantity={quantity}\"\n",
    "    url = f\"https://qrng.idqloud.com/api/1.0/int?max={max}&min={min}&quantity={quantity}\"\n",
    "    headers = {\n",
    "        \"X-API-KEY\": \"aTo4BKRvnc49uRWDk034zaua87vGRXKk9TMLdfkI\"\n",
    "    }\n",
    "    response = requests.get(url, headers=headers)\n",
    "    if response.status_code == 200:\n",
    "        return response.json()['data']\n",
    "    else:\n",
    "        print(f\"Error: {response.status_code}\")\n",
    "        return None\n"
   ]
  },
  {
   "cell_type": "code",
   "execution_count": null,
   "id": "24226678",
   "metadata": {},
   "outputs": [
    {
     "name": "stdout",
     "output_type": "stream",
     "text": [
      "Maximum entropy: 7.983464063274566. Argmax: 481\n"
     ]
    },
    {
     "data": {
      "image/png": "[encoded data removed]",
      "text/plain": [
       "<Figure size 1000x600 with 1 Axes>"
      ]
     },
     "metadata": {},
     "output_type": "display_data"
    }
   ],
   "source": [
    "\"\"\"\n",
    "You can paste the other environmental entropy based TRNGs from Task 2 and compare the performance\n",
    "Compare your written QRNG to the previous TRNGs. Be sure to compare them with respect to bitrate and entropy.\n",
    "\"\"\"\n",
    "\n",
    "def compute_entropy(X):\n",
    "    \"\"\" \n",
    "    You can pass in the random variable X in whatever form you choose.\n",
    "    One way to represent a random variable is as a dictionary, \n",
    "    where each (key, value) pair represents an outcome x \n",
    "    and its probability P(X = x)\n",
    "\n",
    "    Hint: NumPy might be helpful here!\n",
    "    \"\"\"\n",
    "    #construct the probability distribution\n",
    "    # probabilities = np.array([np.sum(X == x) for x in np.unique(X)])\n",
    "    _,probabilities = np.unique(X, return_counts=True)\n",
    "    probabilities =np.array(probabilities)/ len(X)\n",
    "    \n",
    "    #compute the shannon-entropy\n",
    "    entropy = -np.sum(probabilities * np.log2(probabilities))\n",
    "    return entropy\n",
    "    # pass # TODO: copmute Shannon Entropy or Min Entropy\n",
    "\n",
    "def plot_entropy(num_calls=30):\n",
    "    sequence = []\n",
    "    entropies = []\n",
    "    for i in range(num_calls):\n",
    "        data = get_data(32, 0, 255)\n",
    "        if data is not None:\n",
    "            sequence.extend(data)\n",
    "        else:\n",
    "            print(\"Failed to retrieve data\")\n",
    "            break\n",
    "        entropy = compute_entropy(sequence)\n",
    "        entropies.append(entropy)\n",
    "    print(f'Maximum entropy: {max(entropies)}. Argmax: {np.argmax(entropies)}')\n",
    "    \n",
    "    plt.figure(figsize=(10, 6))\n",
    "    plt.plot(range(num_calls), entropies, label='Entropy')\n",
    "    plt.title('Entropy Evolution Chunk')\n",
    "    plt.xlabel('Iteration')\n",
    "    plt.ylabel('Entropy')\n",
    "    plt.legend()\n",
    "    plt.show()\n",
    "        \n",
    "    \n",
    "    # pass # TODO\n",
    "\n",
    "\n",
    "\n",
    "\n",
    "plot_entropy(500)\n",
    "\n"
   ]
  },
  {
   "cell_type": "code",
   "execution_count": 82,
   "id": "0147bb2c",
   "metadata": {},
   "outputs": [
    {
     "name": "stdout",
     "output_type": "stream",
     "text": [
      "Data rate: 5.074076906701571 kbps. Standard deviation: 0.710962007743203 kbps\n"
     ]
    }
   ],
   "source": [
    "def get_bitrate():\n",
    "    # TODO\n",
    "    number_of_data = 32\n",
    "    time_start = time.perf_counter_ns()\n",
    "    data = get_data(number_of_data, -2147483648, -2147483647)\n",
    "    time_end = time.perf_counter_ns()\n",
    "    \n",
    "    elapsed_time = (time_end - time_start)/1e9\n",
    "    data_received_bits = 8 * 4 * number_of_data\n",
    "    data_rate = data_received_bits / elapsed_time\n",
    "    return data_rate, elapsed_time, data_received_bits\n",
    "\n",
    "mean = 0\n",
    "data = []\n",
    "\n",
    "for i in range(100):\n",
    "    data_rate, _, _ = get_bitrate()\n",
    "    mean += data_rate\n",
    "    data.append(data_rate)\n",
    "mean /= 100\n",
    "std = np.std(data)\n",
    "print(f\"Data rate: {mean/1000} kbps. Standard deviation: {std/1000} kbps\")"
   ]
  },
  {
   "cell_type": "markdown",
   "id": "ee04daba",
   "metadata": {},
   "source": [
    "### Part B: Easy as Pi!"
   ]
  },
  {
   "cell_type": "code",
   "execution_count": null,
   "id": "b0155461",
   "metadata": {},
   "outputs": [],
   "source": [
    "\"\"\"\n",
    "Implement the Monte Carlo algorithm for estimating Pi using your various sources of randomness. \n",
    "\n",
    "If you are stuck on how to implement the algorithm: \n",
    "https://www.geeksforgeeks.org/estimating-value-pi-using-monte-carlo/\n",
    "\"\"\"\n",
    "def estimate_pi():\n",
    "    pass # TODO"
   ]
  }
 ],
 "metadata": {
  "kernelspec": {
   "display_name": "venv_fliq",
   "language": "python",
   "name": "python3"
  },
  "language_info": {
   "codemirror_mode": {
    "name": "ipython",
    "version": 3
   },
   "file_extension": ".py",
   "mimetype": "text/x-python",
   "name": "python",
   "nbconvert_exporter": "python",
   "pygments_lexer": "ipython3",
   "version": "3.12.7"
  }
 },
 "nbformat": 4,
 "nbformat_minor": 5
}
